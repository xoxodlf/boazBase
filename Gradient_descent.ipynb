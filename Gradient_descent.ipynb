{
 "cells": [
  {
   "cell_type": "markdown",
   "metadata": {},
   "source": [
    "## Linear Regression with Gradient Descent"
   ]
  },
  {
   "cell_type": "code",
   "execution_count": 9,
   "metadata": {},
   "outputs": [],
   "source": [
    "# 단순 선형 회귀를 위한 임의의 데이터셋을 생성합니다.\n",
    "seed = 1215#\n",
    "from sklearn.datasets import make_regression#\n",
    "X, y = make_regression(n_samples=1000, n_features=1, noise=3.0, random_state=seed)#\n",
    "\n",
    "X_train = X[:800]#\n",
    "X_test = X[800:]#\n",
    "y_train = y[:800]#\n",
    "y_test = y[800:]#"
   ]
  },
  {
   "cell_type": "code",
   "execution_count": 10,
   "metadata": {},
   "outputs": [],
   "source": [
    "import matplotlib.pyplot as plt#\n",
    "from datetime import datetime#\n",
    "import numpy as np#\n",
    "from sklearn.metrics import mean_squared_error, r2_score#"
   ]
  },
  {
   "cell_type": "code",
   "execution_count": 11,
   "metadata": {
    "scrolled": true
   },
   "outputs": [
    {
     "data": {
      "image/png": "[encoded data removed]",
      "text/plain": [
       "<Figure size 432x288 with 1 Axes>"
      ]
     },
     "metadata": {
      "needs_background": "light"
     },
     "output_type": "display_data"
    }
   ],
   "source": [
    "%matplotlib inline#\n",
    "plt.scatter(X_train,y_train, color='r')#\n",
    "plt.scatter(X_test,y_test, color='b')#\n",
    "plt.legend([\"train\", \"test\"])#\n",
    "plt.show()#"
   ]
  },
  {
   "cell_type": "code",
   "execution_count": 12,
   "metadata": {},
   "outputs": [],
   "source": [
    "y_train = y_train.reshape(800,1)#\n",
    "\n",
    "m = y_train.size#"
   ]
  },
  {
   "cell_type": "code",
   "execution_count": 13,
   "metadata": {},
   "outputs": [],
   "source": [
    "def h(theta,X):#\n",
    "    return np.dot(theta,X)#\n",
    "\n",
    "def MSE(mytheta,X,y):#\n",
    "    return (sum((y-h(mytheta,X))**2)/(2*m))[0]#"
   ]
  },
  {
   "cell_type": "code",
   "execution_count": 14,
   "metadata": {},
   "outputs": [],
   "source": [
    "iterations = 10000#\n",
    "learningrate = 0.01#\n",
    "m = y_test.size#\n",
    "y_test = y_test.reshape(200,1)#\n",
    "# 초기값(theta_start)은 자유입니다\n",
    "def Gradientdescent(X, y, theta_start):#\n",
    "    m= X.size#\n",
    "    theta = theta_start#\n",
    "    \n",
    "    for meaningless in range(iterations):#\n",
    "        # (newtheta = theta-(learningrate/number of training examples)X derivative Loss with respect to theta)\n",
    "        # Loss function을 theta에 대해 직접 미분해보세요(tip.Chain rule)\n",
    "        ###\n",
    "        theta = (theta - (learningrate/m) * sum(((np.dot(theta,X))-y)*X))[0]#\n",
    "        \n",
    "    y_pred = theta*X_test#\n",
    "    r_square = r2_score(y_test, y_pred)#\n",
    "    return print('Optimal \"a\" is:', round(theta,3), '\\n','MSE :', round(MSE(theta, X_test, y_test),3),'\\n', 'R^2 :', round(r_square,3))#"
   ]
  },
  {
   "cell_type": "code",
   "execution_count": 15,
   "metadata": {},
   "outputs": [],
   "source": [
    "theta = 0#"
   ]
  },
  {
   "cell_type": "code",
   "execution_count": 23,
   "metadata": {},
   "outputs": [],
   "source": [
    "theta = theta - (0.01/X_train.size*sum((np.dot(theta,X_train)-y_train)*X_train))#"
   ]
  },
  {
   "cell_type": "code",
   "execution_count": 7,
   "metadata": {},
   "outputs": [
    {
     "name": "stdout",
     "output_type": "stream",
     "text": [
      "Optimal \"a\" is: 9.803 \n",
      " MSE : 4.713 \n",
      " R^2 : 0.899\n"
     ]
    }
   ],
   "source": [
    "Gradientdescent(X_train,y_train,0)#"
   ]
  },
  {
   "cell_type": "code",
   "execution_count": 8,
   "metadata": {},
   "outputs": [
    {
     "data": {
      "text/plain": [
       "<matplotlib.collections.PathCollection at 0x14483457400>"
      ]
     },
     "execution_count": 8,
     "metadata": {},
     "output_type": "execute_result"
    },
    {
     "data": {
      "image/png": "[encoded data removed]",
      "text/plain": [
       "<Figure size 720x432 with 1 Axes>"
      ]
     },
     "metadata": {
      "needs_background": "light"
     },
     "output_type": "display_data"
    }
   ],
   "source": [
    "from matplotlib.lines import Line2D#\n",
    "iterations = 10000#\n",
    "learningrate = 0.01#\n",
    "m = y_train.size#\n",
    "\n",
    "# 초기값(theta_start)은 자유입니다\n",
    "def Gradientdescent(X, y, theta_start):#\n",
    "    m= X.size#\n",
    "    theta = theta_start#\n",
    "    Loss = []#\n",
    "    for meaningless in range(iterations):#\n",
    "        loss=round(MSE(theta, X_test, y_test),3)#\n",
    "        Loss.append(loss)#\n",
    "            \n",
    "        theta = (theta - (learningrate/m) * sum(((np.dot(theta,X))-y)*X))[0]#\n",
    "    return Loss#\n",
    "\n",
    "Loss = Gradientdescent(X_train,y_train, 0)#\n",
    "\n",
    "plt.figure(figsize=(10,6))#\n",
    "plt.grid(True)#\n",
    "plt.title(\"Convergence of Cost Function\")#\n",
    "plt.xlabel(\"Iteration number\")#\n",
    "plt.ylabel(\"Loss\")#\n",
    "plt.xlim([0,1000])#\n",
    "plt.ylim([0,10])#\n",
    "plt.scatter(range(len(Loss)),Loss)#"
   ]
  }
 ],
 "metadata": {
  "kernelspec": {
   "display_name": "Python 3",
   "language": "python",
   "name": "python3"
  },
  "language_info": {
   "codemirror_mode": {
    "name": "ipython",
    "version": 3
   },
   "file_extension": ".py",
   "mimetype": "text/x-python",
   "name": "python",
   "nbconvert_exporter": "python",
   "pygments_lexer": "ipython3",
   "version": "3.5.6"
  }
 },
 "nbformat": 4,
 "nbformat_minor": 2
}

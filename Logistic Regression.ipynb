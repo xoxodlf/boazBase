{
 "cells": [
  {
   "cell_type": "markdown",
   "metadata": {},
   "source": [
    "# 2. Logistic Regression"
   ]
  },
  {
   "cell_type": "code",
   "execution_count": 1,
   "metadata": {},
   "outputs": [],
   "source": [
    "import sklearn.datasets\n",
    "seed = 1215\n",
    "X, y = sklearn.datasets.make_classification(n_samples=1000, n_features=2, n_classes=2, n_informative = 2, n_redundant = 0, n_repeated = 0,random_state = seed)\n",
    "\n",
    "X_train = X[:800]\n",
    "X_train = X_train[:,0]\n",
    "X_test = X[800:]\n",
    "X_test = X_test[:,0]\n",
    "y_train = y[:800]\n",
    "y_test = y[800:]"
   ]
  },
  {
   "cell_type": "markdown",
   "metadata": {},
   "source": [
    "### 2-1. 다음과 같은 산점도를 그려주세요"
   ]
  },
  {
   "cell_type": "code",
   "execution_count": 3,
   "metadata": {},
   "outputs": [
    {
     "data": {
      "image/png": "[encoded data removed]",
      "text/plain": [
       "<Figure size 432x288 with 1 Axes>"
      ]
     },
     "metadata": {
      "needs_background": "light"
     },
     "output_type": "display_data"
    }
   ],
   "source": [
    "import matplotlib.pyplot as plt\n",
    "\n",
    "plt.legend([\"train\", \"test\"])\n",
    "# Your Code Here\n",
    "###\n",
    "###"
   ]
  },
  {
   "cell_type": "markdown",
   "metadata": {},
   "source": [
    "### 2-2. 가중치가 1일 때 loss를 계산해보세요. h(x) = 1/1+e^-x 입니다\n",
    "![logisticregression](https://i.stack.imgur.com/XbU4S.png)"
   ]
  },
  {
   "cell_type": "code",
   "execution_count": null,
   "metadata": {},
   "outputs": [],
   "source": [
    "import math\n",
    "\n",
    "def sigmoid(x, mytheta):\n",
    "    return sig"
   ]
  },
  {
   "cell_type": "code",
   "execution_count": null,
   "metadata": {},
   "outputs": [],
   "source": [
    "def LogisticLoss(X, y, mytheta):\n",
    "    error0 = 0\n",
    "    error1 = 0\n",
    "# Your Code Here(for문을 이용해 짜보세요)\n",
    "# math.log는 0에 가까우면 오류가 뜹니다(계산이 안됩니다).\n",
    "# try, except를 이용해 sigmoid와 같이 log값을 700 또는 -700으로 설정해주세요\n",
    "    for i, j in zip(X, y):\n",
    "    return -(error0+error1)/len(X)\n",
    "\n",
    "# seed가 같을 경우 LogisticLoss값은 같아야 합니다.\n",
    "print(LogisticLoss(X_train, y_train, 1))"
   ]
  },
  {
   "cell_type": "markdown",
   "metadata": {},
   "source": [
    "### 2-3. Gradient Descent 기반으로 주어진 loss를 최소화하는 weight를 찾아보세요."
   ]
  },
  {
   "cell_type": "code",
   "execution_count": null,
   "metadata": {},
   "outputs": [],
   "source": [
    "iterations = 10000\n",
    "learningrate = 0.01\n",
    "m = y_train.size\n",
    "\n",
    "# 초기값은 자유입니다\n",
    "def Gradientdescent(X, y, theta_start):\n",
    "    m= X.size\n",
    "    theta = theta_start\n",
    "    for meaningless in range(iterations):\n",
    "        # Your Code Here\n",
    "        # Cross Entropy Loss를 theta에 대해 미분하면 됩니다.\n",
    "        # Cross Entropy Loss 미분은 아래의 동영상을 참고하세요\n",
    "        # https://www.youtube.com/watch?v=mLth3-4yn4Q \n",
    "        ###\n",
    "        theta -= learningrate*gradient\n",
    "    LogisticLoss(X_test, y_test, theta)\n",
    "    return print('Optimal \"a\" is:', round(theta,3), '\\n','Logistic Loss :', round(LogisticLoss(X_test, y_test, theta),3))"
   ]
  },
  {
   "cell_type": "code",
   "execution_count": null,
   "metadata": {},
   "outputs": [],
   "source": [
    "Gradientdescent(X_train,y_train,100)"
   ]
  },
  {
   "cell_type": "markdown",
   "metadata": {},
   "source": [
    "### 2-4. Loss의 변화를 plot으로 나타내보세요."
   ]
  },
  {
   "cell_type": "code",
   "execution_count": null,
   "metadata": {},
   "outputs": [],
   "source": [
    "iterations = 10000\n",
    "learningrate = 0.1\n",
    "m = y_train.size\n",
    "\n",
    "# 초기값은 자유입니다\n",
    "def Gradientdescent(X, y, theta_start):\n",
    "    m= X.size\n",
    "    theta = theta_start\n",
    "    loss = []\n",
    "    for meaningless in range(iterations):\n",
    "        #Your Code Here\n",
    "        ###\n",
    "        ###\n",
    "        ###\n",
    "    return loss"
   ]
  },
  {
   "cell_type": "code",
   "execution_count": null,
   "metadata": {},
   "outputs": [],
   "source": [
    "# 100으로 하면 Convergence가 좀 더 잘 보입니다.\n",
    "Loss = Gradientdescent(X_train,y_train,100)"
   ]
  },
  {
   "cell_type": "code",
   "execution_count": null,
   "metadata": {},
   "outputs": [],
   "source": [
    "plt.figure(figsize=(10,6))\n",
    "plt.grid(True)\n",
    "plt.title(\"Convergence of Cost Function\")\n",
    "plt.xlabel(\"Iteration number\")\n",
    "plt.ylabel(\"Loss\")\n",
    "plt.xlim([0,1000])\n",
    "plt.ylim([0,5])\n",
    "#Your Code Here"
   ]
  }
 ],
 "metadata": {
  "kernelspec": {
   "display_name": "Python 3",
   "language": "python",
   "name": "python3"
  },
  "language_info": {
   "codemirror_mode": {
    "name": "ipython",
    "version": 3
   },
   "file_extension": ".py",
   "mimetype": "text/x-python",
   "name": "python",
   "nbconvert_exporter": "python",
   "pygments_lexer": "ipython3",
   "version": "3.7.3"
  }
 },
 "nbformat": 4,
 "nbformat_minor": 2
}
